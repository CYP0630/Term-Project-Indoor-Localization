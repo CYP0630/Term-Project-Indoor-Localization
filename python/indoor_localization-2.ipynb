{
 "cells": [
  {
   "cell_type": "code",
   "execution_count": 1,
   "metadata": {},
   "outputs": [
    {
     "name": "stderr",
     "output_type": "stream",
     "text": [
      "Using TensorFlow backend.\n"
     ]
    }
   ],
   "source": [
    "# Slighlty updated for Keras 2.0 APIs\n",
    "# - by Kyeong Soo (Joseph) Kim\n",
    "\n",
    "import datetime\n",
    "import os\n",
    "import numpy as np\n",
    "import pandas as pd\n",
    "os.environ['TF_CPP_MIN_LOG_LEVEL']='2' # supress warning messages\n",
    "import tensorflow as tf\n",
    "\n",
    "from keras.layers import Dense, Dropout\n",
    "from keras.models import Sequential\n",
    "from sklearn.preprocessing import scale\n",
    "from timeit import default_timer as timer"
   ]
  },
  {
   "cell_type": "code",
   "execution_count": 2,
   "metadata": {
    "collapsed": true
   },
   "outputs": [],
   "source": [
    "path_train = \"../data/UJIIndoorLoc/trainingData2.csv\"\n",
    "path_validation = \"../data/UJIIndoorLoc/validationData2.csv\"\n",
    "path_results = \"../results/indoor_localization-2\" # TODO: implement auto-detection of the file name"
   ]
  },
  {
   "cell_type": "code",
   "execution_count": 3,
   "metadata": {
    "collapsed": true
   },
   "outputs": [],
   "source": [
    "#Explicitly pass header=0 to be able to replace existing names \n",
    "train_df = pd.read_csv(path_train,header = 0)\n",
    "train_df = train_df[:19930]\n",
    "train_AP_strengths = train_df.iloc[:,:520] #select first 520 columns\n",
    "\n",
    "#Scale transforms data to center to the mean and component wise scale to unit variance\n",
    "train_AP_features = scale(np.asarray(train_AP_strengths).astype(float), axis=1) # convert integer to float and scale jointly (axis=1)\n",
    "\n",
    "#The following two objects are actually pandas.core.series.Series objects\n",
    "building_ids_str = train_df[\"BUILDINGID\"].map(str) #convert all the building ids to strings\n",
    "building_floors_str = train_df[\"FLOOR\"].map(str) #convert all the building floors to strings\n",
    "\n",
    "res = building_ids_str + building_floors_str #element wise concatenation of BUILDINGID+FLOOR\n",
    "train_labels = np.asarray(building_ids_str + building_floors_str)\n",
    "\n",
    "#convert labels to categorical variables, dummy_labels has type 'pandas.core.frame.DataFrame'\n",
    "dummy_labels = pd.get_dummies(train_labels)\n",
    "\n",
    "\n",
    "\"\"\"one hot encode the dummy_labels.\n",
    "this is done because dummy_labels is a dataframe with the labels (BUILDINGID+FLOOR) \n",
    "as the column names\n",
    "\"\"\"\n",
    "train_labels = np.asarray(dummy_labels) #labels is an array of shape 19937 x 13. (there are 13 types of labels)"
   ]
  },
  {
   "cell_type": "code",
   "execution_count": 4,
   "metadata": {
    "collapsed": true
   },
   "outputs": [],
   "source": [
    "#generate len(train_AP_features) of floats in between 0 and 1\n",
    "train_val_split = np.random.rand(len(train_AP_features))\n",
    "#convert train_val_split to an array of booleans: if elem < 0.7 = true, else: false\n",
    "train_val_split = train_val_split < 0.70 #should contain ~70% percent true"
   ]
  },
  {
   "cell_type": "markdown",
   "metadata": {},
   "source": [
    "We aren't given a formal testing set, so we will treat the given validation set as the testing set"
   ]
  },
  {
   "cell_type": "code",
   "execution_count": 5,
   "metadata": {
    "collapsed": true
   },
   "outputs": [],
   "source": [
    "# We will then split our given training set into training + validation \n",
    "train_X = train_AP_features[train_val_split]\n",
    "train_y = train_labels[train_val_split]\n",
    "val_X = train_AP_features[~train_val_split]\n",
    "val_y = train_labels[~train_val_split]"
   ]
  },
  {
   "cell_type": "code",
   "execution_count": 6,
   "metadata": {
    "collapsed": true
   },
   "outputs": [],
   "source": [
    "#Turn the given validation set into a testing set\n",
    "test_df = pd.read_csv(path_validation,header = 0)\n",
    "test_AP_features = scale(np.asarray(test_df.iloc[:,0:520]).astype(float))\n",
    "test_labels = np.asarray(test_df[\"BUILDINGID\"].map(str) + test_df[\"FLOOR\"].map(str))\n",
    "test_labels = np.asarray(pd.get_dummies(test_labels))"
   ]
  },
  {
   "cell_type": "code",
   "execution_count": 7,
   "metadata": {
    "collapsed": true
   },
   "outputs": [],
   "source": [
    "epochs = 20\n",
    "batch_size = 10\n",
    "input_size = 520\n",
    "num_classes = 13\n",
    "nums_hidden_nodes = [16] # for test\n",
    "# nums_hidden_nodes = [16, 32, 64, 128, 256, 512]\n",
    "dropout_rates = [0.5] # for test\n",
    "# dropout_rates = [0.0, 0.2, 0.5]\n",
    "# dropout_rates = np.arange(11)*0.05 # 0.0, 0.05,...,0.5\n",
    "losses = np.zeros((len(nums_hidden_nodes), len(dropout_rates)))\n",
    "accuracies = np.zeros_like(losses)"
   ]
  },
  {
   "cell_type": "code",
   "execution_count": 8,
   "metadata": {
    "collapsed": true
   },
   "outputs": [],
   "source": [
    "def classifier(num_hidden_nodes, dropout_rate):\n",
    "    model = Sequential()\n",
    "    model.add(Dense(num_hidden_nodes, input_dim=input_size, activation='relu', use_bias=True))\n",
    "#     model.add(Dropout(dropout_rate))\n",
    "#     model.add(Dense(256, activation='relu', use_bias=True))\n",
    "#     model.add(Dropout(dropout_rate))\n",
    "#     model.add(Dense(128, activation='relu', use_bias=True))\n",
    "#     model.add(Dropout(dropout_rate))\n",
    "#     model.add(Dense(64, activation='relu', use_bias=True))\n",
    "#     model.add(Dropout(dropout_rate))\n",
    "    model.add(Dense(num_classes, activation='softmax', use_bias=True))\n",
    "    model.compile(optimizer='adam', loss='categorical_crossentropy',metrics=['accuracy'])\n",
    "    return model"
   ]
  },
  {
   "cell_type": "code",
   "execution_count": 9,
   "metadata": {},
   "outputs": [
    {
     "name": "stdout",
     "output_type": "stream",
     "text": [
      "Train on 13915 samples, validate on 6015 samples\n",
      "Epoch 1/20\n",
      "13915/13915 [==============================] - 2s - loss: 0.2766 - acc: 0.9227 - val_loss: 0.0665 - val_acc: 0.9805\n",
      "Epoch 2/20\n",
      "13915/13915 [==============================] - 1s - loss: 0.0371 - acc: 0.9915 - val_loss: 0.0356 - val_acc: 0.9887\n",
      "Epoch 3/20\n",
      "13915/13915 [==============================] - 1s - loss: 0.0234 - acc: 0.9944 - val_loss: 0.0361 - val_acc: 0.9880\n",
      "Epoch 4/20\n",
      "13915/13915 [==============================] - 1s - loss: 0.0185 - acc: 0.9948 - val_loss: 0.0259 - val_acc: 0.9914\n",
      "Epoch 5/20\n",
      "13915/13915 [==============================] - 1s - loss: 0.0141 - acc: 0.9958 - val_loss: 0.0281 - val_acc: 0.9907\n",
      "Epoch 6/20\n",
      "13915/13915 [==============================] - 1s - loss: 0.0117 - acc: 0.9966 - val_loss: 0.0268 - val_acc: 0.9900\n",
      "Epoch 7/20\n",
      "13915/13915 [==============================] - 1s - loss: 0.0122 - acc: 0.9957 - val_loss: 0.0199 - val_acc: 0.9922\n",
      "Epoch 8/20\n",
      "13915/13915 [==============================] - 1s - loss: 0.0095 - acc: 0.9967 - val_loss: 0.0295 - val_acc: 0.9894\n",
      "Epoch 9/20\n",
      "13915/13915 [==============================] - 1s - loss: 0.0093 - acc: 0.9966 - val_loss: 0.0201 - val_acc: 0.99350.996\n",
      "Epoch 10/20\n",
      "13915/13915 [==============================] - 1s - loss: 0.0070 - acc: 0.9973 - val_loss: 0.0236 - val_acc: 0.9917\n",
      "Epoch 11/20\n",
      "13915/13915 [==============================] - 1s - loss: 0.0079 - acc: 0.9971 - val_loss: 0.0239 - val_acc: 0.9909\n",
      "Epoch 12/20\n",
      "13915/13915 [==============================] - 1s - loss: 0.0064 - acc: 0.9971 - val_loss: 0.0205 - val_acc: 0.99250.99\n",
      "Epoch 13/20\n",
      "13915/13915 [==============================] - 1s - loss: 0.0065 - acc: 0.9976 - val_loss: 0.0275 - val_acc: 0.9912A: 0s - loss: 0.0070 - acc: \n",
      "Epoch 14/20\n",
      "13915/13915 [==============================] - 1s - loss: 0.0074 - acc: 0.9972 - val_loss: 0.0294 - val_acc: 0.9895ss: 0.0060 - acc: 0.997 - ETA: 0s - loss: 0.0062 - acc: 0.9\n",
      "Epoch 15/20\n",
      "13915/13915 [==============================] - 1s - loss: 0.0063 - acc: 0.9970 - val_loss: 0.0260 - val_acc: 0.9914\n",
      "Epoch 16/20\n",
      "13915/13915 [==============================] - 1s - loss: 0.0049 - acc: 0.9981 - val_loss: 0.0276 - val_acc: 0.9909\n",
      "Epoch 17/20\n",
      "13915/13915 [==============================] - 1s - loss: 0.0053 - acc: 0.9975 - val_loss: 0.0459 - val_acc: 0.9877\n",
      "Epoch 18/20\n",
      "13915/13915 [==============================] - 1s - loss: 0.0069 - acc: 0.9971 - val_loss: 0.0244 - val_acc: 0.9919\n",
      "Epoch 19/20\n",
      "13915/13915 [==============================] - 1s - loss: 0.0040 - acc: 0.9981 - val_loss: 0.0229 - val_acc: 0.9920\n",
      "Epoch 20/20\n",
      "13915/13915 [==============================] - 1s - loss: 0.0062 - acc: 0.9971 - val_loss: 0.0334 - val_acc: 0.9890\n",
      "Model trained with nh=16 & dr=0.50 in 3.749064e+01 s.\n",
      "\n",
      "  32/1111 [..............................] - ETA: 0s"
     ]
    }
   ],
   "source": [
    "for nh in range(len(nums_hidden_nodes)):\n",
    "    for dr in range(len(dropout_rates)):\n",
    "        c = classifier(nums_hidden_nodes[nh], dropout_rates[dr])\n",
    "        startTime = timer()\n",
    "        c.fit(train_X, train_y, validation_data=(val_X, val_y), batch_size=batch_size, epochs=epochs)\n",
    "        elapsedTime = timer() - startTime\n",
    "        print(\"Model trained with nh=%d & dr=%.2f in %e s.\\n\" % (nums_hidden_nodes[nh], dropout_rates[dr], elapsedTime))\n",
    "        loss, acc = c.evaluate(test_AP_features, test_labels)\n",
    "        losses[nh, dr] = loss\n",
    "        accuracies[nh, dr] = acc"
   ]
  },
  {
   "cell_type": "code",
   "execution_count": 10,
   "metadata": {
    "collapsed": true
   },
   "outputs": [],
   "source": [
    "now = datetime.datetime.now()\n",
    "path_results += \"_\" + now.strftime(\"%Y%m%d-%H%M%S\") + \".csv\"\n",
    "f = open(path_results, 'w')\n",
    "for nh in range(len(nums_hidden_nodes)):\n",
    "    for dr in range(len(dropout_rates)):\n",
    "        f.write(\"nh=%d & dr=%.2f: loss=%e, accuracy=%e\" % (nums_hidden_nodes[nh], dropout_rates[dr], losses[nh, dr], accuracies[nh, dr]))\n",
    "f.close()"
   ]
  }
 ],
 "metadata": {
  "kernelspec": {
   "display_name": "Python 3",
   "language": "python",
   "name": "python3"
  },
  "language_info": {
   "codemirror_mode": {
    "name": "ipython",
    "version": 3
   },
   "file_extension": ".py",
   "mimetype": "text/x-python",
   "name": "python",
   "nbconvert_exporter": "python",
   "pygments_lexer": "ipython3",
   "version": "3.6.3"
  }
 },
 "nbformat": 4,
 "nbformat_minor": 1
}
